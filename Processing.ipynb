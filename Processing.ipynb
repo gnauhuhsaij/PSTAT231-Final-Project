{
 "cells": [
  {
   "cell_type": "code",
   "execution_count": 2,
   "metadata": {},
   "outputs": [],
   "source": [
    "import pandas as pd"
   ]
  },
  {
   "cell_type": "code",
   "execution_count": null,
   "metadata": {},
   "outputs": [],
   "source": [
    "df = pd.read_csv('../data/RC_2021-10.csv')\n",
    "df2 = df[[\"author\", \"created_utc\", \"body\", \"subreddit\", \"score\"]].copy()\n",
    "df2.to_csv(\"../data/data.csv\")"
   ]
  },
  {
   "cell_type": "code",
   "execution_count": 3,
   "metadata": {},
   "outputs": [
    {
     "name": "stderr",
     "output_type": "stream",
     "text": [
      "/var/folders/k_/cq1sx9d94zs5s6d39hnbqppm0000gn/T/ipykernel_97027/785670083.py:1: DtypeWarning: Columns (0) have mixed types. Specify dtype option on import or set low_memory=False.\n",
      "  df = pd.read_csv('../data/data.csv')\n"
     ]
    }
   ],
   "source": [
    "df = pd.read_csv('../data/data.csv')"
   ]
  },
  {
   "cell_type": "code",
   "execution_count": 4,
   "metadata": {},
   "outputs": [],
   "source": [
    "df.dropna(inplace = True)"
   ]
  },
  {
   "cell_type": "code",
   "execution_count": 49,
   "metadata": {},
   "outputs": [
    {
     "name": "stdout",
     "output_type": "stream",
     "text": [
      "Unique authors: 1365650\n",
      "Unique subreddits: 59591\n",
      "Dataset size: 5089030\n"
     ]
    }
   ],
   "source": [
    "print(\"Unique authors:\", len(pd.unique(df['author'])))\n",
    "print(\"Unique subreddits:\", len(pd.unique(df['subreddit'])))\n",
    "print(\"Dataset size:\", len(df))"
   ]
  },
  {
   "cell_type": "code",
   "execution_count": 5,
   "metadata": {},
   "outputs": [],
   "source": [
    "def length(x):\n",
    "    return len(x.split())\n",
    "df[\"text_length\"] = df['body'].apply(lambda x: length(x))"
   ]
  },
  {
   "cell_type": "code",
   "execution_count": 50,
   "metadata": {},
   "outputs": [],
   "source": [
    "def time(x):\n",
    "    return x-1633046400.0\n",
    "df['time'] = df['created_utc'].apply(lambda x: time(x))"
   ]
  },
  {
   "cell_type": "code",
   "execution_count": 6,
   "metadata": {},
   "outputs": [],
   "source": [
    "df.drop(columns = ['created_utc', 'body'], inplace=True)"
   ]
  },
  {
   "cell_type": "code",
   "execution_count": 7,
   "metadata": {},
   "outputs": [],
   "source": [
    "unique_author_names = set(df.author.values)\n",
    "user_index = {}\n",
    "count = 0\n",
    "for i in unique_author_names:\n",
    "    user_index[i] = count\n",
    "    count += 1\n",
    "df['user_id'] = df['author'].apply(lambda x: user_index[x])"
   ]
  },
  {
   "cell_type": "code",
   "execution_count": null,
   "metadata": {},
   "outputs": [],
   "source": [
    "iter = 0\n",
    "A = []\n",
    "for i in range(len(user_index)):\n",
    "    if len(df[df['user_id']==i])==1:\n",
    "        A.append(i)\n",
    "    iter += 1\n",
    "    if iter % 5000 == 0:\n",
    "        print(iter/len(user_index))"
   ]
  },
  {
   "cell_type": "code",
   "execution_count": 93,
   "metadata": {},
   "outputs": [],
   "source": [
    "df2 = df.drop(df[df[\"user_id\"].isin(A)].index).copy()"
   ]
  },
  {
   "cell_type": "code",
   "execution_count": 100,
   "metadata": {},
   "outputs": [
    {
     "data": {
      "text/plain": [
       "661152"
      ]
     },
     "execution_count": 100,
     "metadata": {},
     "output_type": "execute_result"
    }
   ],
   "source": [
    "len(df2.user_id.unique())"
   ]
  },
  {
   "cell_type": "code",
   "execution_count": 9,
   "metadata": {},
   "outputs": [],
   "source": [
    "df2.to_csv(\"../data/data_morethanone.csv\")"
   ]
  }
 ],
 "metadata": {
  "kernelspec": {
   "display_name": "Python 3.9.13 ('pytorch')",
   "language": "python",
   "name": "python3"
  },
  "language_info": {
   "codemirror_mode": {
    "name": "ipython",
    "version": 3
   },
   "file_extension": ".py",
   "mimetype": "text/x-python",
   "name": "python",
   "nbconvert_exporter": "python",
   "pygments_lexer": "ipython3",
   "version": "3.9.13"
  },
  "orig_nbformat": 4,
  "vscode": {
   "interpreter": {
    "hash": "5ed3ec68748eeeab0d31e2de3e1dfd6b60a1f4574091f01707a40259693bab8c"
   }
  }
 },
 "nbformat": 4,
 "nbformat_minor": 2
}
