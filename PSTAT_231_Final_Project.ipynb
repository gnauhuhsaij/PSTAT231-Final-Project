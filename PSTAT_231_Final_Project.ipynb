{
  "cells": [
    {
      "cell_type": "markdown",
      "metadata": {
        "id": "sDweqO6ROKv_"
      },
      "source": [
        "# **SUBREDDIT RECOMMENDATION WITH MATRIX FACTORIZATION**\n",
        "\n",
        "---\n",
        "PSTAT 231 FINAL PROJECT\n",
        "\n",
        "Jiashu Huang\n",
        "\n",
        "Dec 6th, 2022\n"
      ]
    },
    {
      "cell_type": "markdown",
      "metadata": {
        "id": "qr28IQveO5hC"
      },
      "source": [
        "# **1. Introduction**\n",
        "\n",
        "A considerable part of this project, such as the logistic of some code, is inspired by the course https://www.udemy.com/course/recommender-systems/."
      ]
    },
    {
      "cell_type": "markdown",
      "metadata": {
        "id": "Q6hjbNfzeYV5"
      },
      "source": [
        "## **1.1 What is Reddit**\n",
        "\n",
        "Reddit is a network of communities where people can dive into their interests, hobbies, and passions. Each community is generally called a subreddit channel. Registered users submit content to the site, such as links, text posts, images, and videos, which other members then vote up or down. "
      ]
    },
    {
      "cell_type": "markdown",
      "metadata": {
        "id": "VsTKklTAecYg"
      },
      "source": [
        "## **1.2 Why Recommendation**\n",
        "\n",
        "To date, there are about 3 million subreddit channels. It is easy to get lost in the vast space of different channels but hard to find the right ones. An efficient recommendation model would help Reddit users explore their interests, find like-minded people, and be involved in diverse communities."
      ]
    },
    {
      "cell_type": "markdown",
      "metadata": {
        "id": "mQjje48jefAS"
      },
      "source": [
        "## **1.3 Project Objective**\n",
        "\n",
        "Due to the limitation of computational power, this project aims to build a relatively rudimentary model that based its results on the most popular 10,000 subreddit channels. The model should be able to provide a top 10 channel list based on the previous browsing history. "
      ]
    },
    {
      "cell_type": "markdown",
      "metadata": {
        "id": "VJjyCkTiRtYe"
      },
      "source": [
        "# **2. Data Preprocessing**\n",
        "\n"
      ]
    },
    {
      "cell_type": "markdown",
      "metadata": {
        "id": "vqdgKue1eJeg"
      },
      "source": [
        "## **2.1 Data Collection**\n",
        "\n",
        "The data used in this project is collected on the website https://files.pushshift.io/reddit/comments/. Due to the limitation of computational power, only data from the first day of October 2021 was collected. The data size was further reduced using random sampling.\n"
      ]
    },
    {
      "cell_type": "markdown",
      "metadata": {
        "id": "bQTo5fUEePqP"
      },
      "source": [
        "## **2.2 Data Cleaning**\n",
        "\n",
        "Recommendation systems are normally based on users' ratings of different products. However, in the case of Reddit, users do not directly rate any subreddit channels. The only data we have access to (the data we collected above) is that of the individual comments. Therefore, we have to derive a 'rating' from the attributes of the comment data. The comment data is stored in the form of\n",
        "\n",
        "\n",
        "[***author***, ***net_upvotes***, ***subreddit***, ***text***].\n",
        "\n",
        "\n",
        "Initially, the data covers over 1,300,000 different authors, over 60,000 different subreddit channels, and over 5,000,000 comments.\n",
        "\n",
        "However, since recommendation systems utilize the similarities between users to formulate recommendations, users that comment only once or twice and channels that have only been commented on once or twice are useless. Thus, we further reduce the sample size by limiting the minimum number of user comments to 3 and withholding only the top 10,000 subreddit channels. Then we perform a random sampling procedure again, so there are only 10,000 different authors.\n",
        "\n",
        "The finalized dataset has only 10,000 different authors and 10,000 subreddit channels, but still over 360,000 comments."
      ]
    },
    {
      "cell_type": "markdown",
      "metadata": {
        "id": "149QtrQveSsi"
      },
      "source": [
        "## **2.3 Dictionary Conversion**\n",
        "\n",
        "The final step of data preprocessing is to convert data frames to dictionaries.\n",
        "\n",
        "But WHY do we need to do this?\n",
        "\n",
        "During the training process, we need to constantly access the element in the data frame. Therefore, the time complexity of this process would be $O(n^2)$. With the size of 10,000 * 10,000 (plus if we want to apply it to larger data), the computation could be really slow. However, we only have 360,000 comments instead of 100,000,000. Thus, by creating a dictionary in the form of \n",
        "\n",
        "$\\text{{(user1, channel1): rating, (user2, channel5): rating, ...}}$\n",
        "\n",
        "we can reduce the time complexity to $O(Z)$, where Z is the number of comments.\n",
        "\n",
        "Before we do the conversion, we first split the data into three sets: the training set, the validation set, and the testing set, with the proportion of 6 : 2 : 2.\n",
        "\n",
        "For the training dataset, other than the dictionary shown above, we also need two additional dictionaries, one for checking which channels each user has commented on in the form of \n",
        "\n",
        "$\\text{{user1: [channel1, channel2, channel3, ...], user2: [channel101],...}}$\n",
        "\n",
        "the other one checking which users have commented on each Reddit channel in the form of \n",
        "\n",
        "$\\text{{channel1: [user1, user2, user3, ...], channel2: [user4, user5], ...}}$. \n",
        "\n",
        "In total, we have five dictionaries, three user-channel-to-rating ones for each dataset, and two additional ones for the training set only."
      ]
    },
    {
      "cell_type": "markdown",
      "metadata": {
        "id": "ViL_xA9-bpiy"
      },
      "source": [
        "# **3. Exploratory Data Analysis**"
      ]
    },
    {
      "cell_type": "markdown",
      "metadata": {
        "id": "4TmrMk4qsBDX"
      },
      "source": [
        "First, import all libraries we need."
      ]
    },
    {
      "cell_type": "code",
      "execution_count": 1,
      "metadata": {
        "id": "ylHIUR84MmBU"
      },
      "outputs": [],
      "source": [
        "import pickle\n",
        "import numpy as np\n",
        "import pandas as pd\n",
        "import matplotlib.pyplot as plt\n",
        "from sklearn.utils import shuffle\n",
        "from sklearn import preprocessing\n",
        "import seaborn as sns\n",
        "import math\n",
        "from sortedcontainers import SortedList\n",
        "from sklearn.decomposition import PCA\n",
        "from datetime import datetime"
      ]
    },
    {
      "cell_type": "markdown",
      "metadata": {
        "id": "COiWveUytWrT"
      },
      "source": [
        "Load the data in data frame form for EDA. Texts are already transformed to text_length for convenience."
      ]
    },
    {
      "cell_type": "code",
      "execution_count": 4,
      "metadata": {
        "id": "AnxxJ_w1sHtu"
      },
      "outputs": [],
      "source": [
        "df = pd.read_csv(\"Data/small.csv\")\n",
        "df.drop(columns = [\"Unnamed: 0.2\", \"Unnamed: 0.1\", \"Unnamed: 0\"], inplace = True)"
      ]
    },
    {
      "cell_type": "code",
      "execution_count": null,
      "metadata": {
        "colab": {
          "base_uri": "https://localhost:8080/",
          "height": 206
        },
        "id": "FA_HPunzssDN",
        "outputId": "9903aa15-a54f-4ec8-b7f3-735791d68fc1"
      },
      "outputs": [
        {
          "data": {
            "text/html": [
              "\n",
              "  <div id=\"df-67fe3f5b-2967-46e9-97d0-98d923120a07\">\n",
              "    <div class=\"colab-df-container\">\n",
              "      <div>\n",
              "<style scoped>\n",
              "    .dataframe tbody tr th:only-of-type {\n",
              "        vertical-align: middle;\n",
              "    }\n",
              "\n",
              "    .dataframe tbody tr th {\n",
              "        vertical-align: top;\n",
              "    }\n",
              "\n",
              "    .dataframe thead th {\n",
              "        text-align: right;\n",
              "    }\n",
              "</style>\n",
              "<table border=\"1\" class=\"dataframe\">\n",
              "  <thead>\n",
              "    <tr style=\"text-align: right;\">\n",
              "      <th></th>\n",
              "      <th>author</th>\n",
              "      <th>subreddit</th>\n",
              "      <th>score</th>\n",
              "      <th>text_length</th>\n",
              "      <th>user_id</th>\n",
              "      <th>channel_id</th>\n",
              "    </tr>\n",
              "  </thead>\n",
              "  <tbody>\n",
              "    <tr>\n",
              "      <th>0</th>\n",
              "      <td>ThatRookieGuy80</td>\n",
              "      <td>AskMen</td>\n",
              "      <td>7.0</td>\n",
              "      <td>10</td>\n",
              "      <td>0</td>\n",
              "      <td>0</td>\n",
              "    </tr>\n",
              "    <tr>\n",
              "      <th>1</th>\n",
              "      <td>Gr000vy</td>\n",
              "      <td>backpain</td>\n",
              "      <td>5.0</td>\n",
              "      <td>13</td>\n",
              "      <td>1</td>\n",
              "      <td>1</td>\n",
              "    </tr>\n",
              "    <tr>\n",
              "      <th>2</th>\n",
              "      <td>623-252-2424</td>\n",
              "      <td>PublicFreakout</td>\n",
              "      <td>2.0</td>\n",
              "      <td>2</td>\n",
              "      <td>2</td>\n",
              "      <td>2</td>\n",
              "    </tr>\n",
              "    <tr>\n",
              "      <th>3</th>\n",
              "      <td>Soviet-Biscuit</td>\n",
              "      <td>mildlyinfuriating</td>\n",
              "      <td>2.0</td>\n",
              "      <td>5</td>\n",
              "      <td>3</td>\n",
              "      <td>3</td>\n",
              "    </tr>\n",
              "    <tr>\n",
              "      <th>4</th>\n",
              "      <td>judyclimbs</td>\n",
              "      <td>MadeMeSmile</td>\n",
              "      <td>8.0</td>\n",
              "      <td>37</td>\n",
              "      <td>4</td>\n",
              "      <td>4</td>\n",
              "    </tr>\n",
              "  </tbody>\n",
              "</table>\n",
              "</div>\n",
              "      <button class=\"colab-df-convert\" onclick=\"convertToInteractive('df-67fe3f5b-2967-46e9-97d0-98d923120a07')\"\n",
              "              title=\"Convert this dataframe to an interactive table.\"\n",
              "              style=\"display:none;\">\n",
              "        \n",
              "  <svg xmlns=\"http://www.w3.org/2000/svg\" height=\"24px\"viewBox=\"0 0 24 24\"\n",
              "       width=\"24px\">\n",
              "    <path d=\"M0 0h24v24H0V0z\" fill=\"none\"/>\n",
              "    <path d=\"M18.56 5.44l.94 2.06.94-2.06 2.06-.94-2.06-.94-.94-2.06-.94 2.06-2.06.94zm-11 1L8.5 8.5l.94-2.06 2.06-.94-2.06-.94L8.5 2.5l-.94 2.06-2.06.94zm10 10l.94 2.06.94-2.06 2.06-.94-2.06-.94-.94-2.06-.94 2.06-2.06.94z\"/><path d=\"M17.41 7.96l-1.37-1.37c-.4-.4-.92-.59-1.43-.59-.52 0-1.04.2-1.43.59L10.3 9.45l-7.72 7.72c-.78.78-.78 2.05 0 2.83L4 21.41c.39.39.9.59 1.41.59.51 0 1.02-.2 1.41-.59l7.78-7.78 2.81-2.81c.8-.78.8-2.07 0-2.86zM5.41 20L4 18.59l7.72-7.72 1.47 1.35L5.41 20z\"/>\n",
              "  </svg>\n",
              "      </button>\n",
              "      \n",
              "  <style>\n",
              "    .colab-df-container {\n",
              "      display:flex;\n",
              "      flex-wrap:wrap;\n",
              "      gap: 12px;\n",
              "    }\n",
              "\n",
              "    .colab-df-convert {\n",
              "      background-color: #E8F0FE;\n",
              "      border: none;\n",
              "      border-radius: 50%;\n",
              "      cursor: pointer;\n",
              "      display: none;\n",
              "      fill: #1967D2;\n",
              "      height: 32px;\n",
              "      padding: 0 0 0 0;\n",
              "      width: 32px;\n",
              "    }\n",
              "\n",
              "    .colab-df-convert:hover {\n",
              "      background-color: #E2EBFA;\n",
              "      box-shadow: 0px 1px 2px rgba(60, 64, 67, 0.3), 0px 1px 3px 1px rgba(60, 64, 67, 0.15);\n",
              "      fill: #174EA6;\n",
              "    }\n",
              "\n",
              "    [theme=dark] .colab-df-convert {\n",
              "      background-color: #3B4455;\n",
              "      fill: #D2E3FC;\n",
              "    }\n",
              "\n",
              "    [theme=dark] .colab-df-convert:hover {\n",
              "      background-color: #434B5C;\n",
              "      box-shadow: 0px 1px 3px 1px rgba(0, 0, 0, 0.15);\n",
              "      filter: drop-shadow(0px 1px 2px rgba(0, 0, 0, 0.3));\n",
              "      fill: #FFFFFF;\n",
              "    }\n",
              "  </style>\n",
              "\n",
              "      <script>\n",
              "        const buttonEl =\n",
              "          document.querySelector('#df-67fe3f5b-2967-46e9-97d0-98d923120a07 button.colab-df-convert');\n",
              "        buttonEl.style.display =\n",
              "          google.colab.kernel.accessAllowed ? 'block' : 'none';\n",
              "\n",
              "        async function convertToInteractive(key) {\n",
              "          const element = document.querySelector('#df-67fe3f5b-2967-46e9-97d0-98d923120a07');\n",
              "          const dataTable =\n",
              "            await google.colab.kernel.invokeFunction('convertToInteractive',\n",
              "                                                     [key], {});\n",
              "          if (!dataTable) return;\n",
              "\n",
              "          const docLinkHtml = 'Like what you see? Visit the ' +\n",
              "            '<a target=\"_blank\" href=https://colab.research.google.com/notebooks/data_table.ipynb>data table notebook</a>'\n",
              "            + ' to learn more about interactive tables.';\n",
              "          element.innerHTML = '';\n",
              "          dataTable['output_type'] = 'display_data';\n",
              "          await google.colab.output.renderOutput(dataTable, element);\n",
              "          const docLink = document.createElement('div');\n",
              "          docLink.innerHTML = docLinkHtml;\n",
              "          element.appendChild(docLink);\n",
              "        }\n",
              "      </script>\n",
              "    </div>\n",
              "  </div>\n",
              "  "
            ],
            "text/plain": [
              "            author          subreddit  score  text_length  user_id  channel_id\n",
              "0  ThatRookieGuy80             AskMen    7.0           10        0           0\n",
              "1          Gr000vy           backpain    5.0           13        1           1\n",
              "2     623-252-2424     PublicFreakout    2.0            2        2           2\n",
              "3   Soviet-Biscuit  mildlyinfuriating    2.0            5        3           3\n",
              "4       judyclimbs        MadeMeSmile    8.0           37        4           4"
            ]
          },
          "execution_count": 4,
          "metadata": {},
          "output_type": "execute_result"
        }
      ],
      "source": [
        "df.head()"
      ]
    },
    {
      "cell_type": "markdown",
      "metadata": {
        "id": "4oRzKF1YtcYB"
      },
      "source": [
        "Let's take a look at the distribution of text lengths and scores."
      ]
    },
    {
      "cell_type": "code",
      "execution_count": null,
      "metadata": {
        "id": "fMtY9lGwtwfV"
      },
      "outputs": [],
      "source": [
        "import random\n",
        "random_sample = random.choices(range(df.shape[0]), k=1000)\n",
        "EDA = df.loc[random_sample, [\"score\", \"text_length\"]]"
      ]
    },
    {
      "cell_type": "markdown",
      "metadata": {
        "id": "XfX9xb4m0Ffm"
      },
      "source": [
        "Scores are mostly from 0 to 10, peaking at score = 0. It is reasonable because most comments receive zero votes. Text lengths have a right-skewed distribution."
      ]
    },
    {
      "cell_type": "code",
      "execution_count": null,
      "metadata": {
        "colab": {
          "base_uri": "https://localhost:8080/",
          "height": 298
        },
        "id": "mkSiIQx6vnBZ",
        "outputId": "6c53b778-02fa-474a-fa81-798562c55a60"
      },
      "outputs": [
        {
          "data": {
            "text/plain": [
              "<matplotlib.axes._subplots.AxesSubplot at 0x7f730d19dd90>"
            ]
          },
          "execution_count": 7,
          "metadata": {},
          "output_type": "execute_result"
        },
        {
          "data": {
            "image/png": "[encoded data removed]",
            "text/plain": [
              "<Figure size 864x288 with 2 Axes>"
            ]
          },
          "metadata": {
            "needs_background": "light"
          },
          "output_type": "display_data"
        }
      ],
      "source": [
        "plt.rcParams['figure.figsize'] = [12,4]\n",
        "plt.subplot(1, 2, 1)\n",
        "sns.histplot(EDA.score, binrange=[-20,20])\n",
        "plt.subplot(1, 2, 2)\n",
        "sns.histplot(EDA.text_length, binrange=[1,200])"
      ]
    },
    {
      "cell_type": "markdown",
      "metadata": {
        "id": "jikwE9PB3boA"
      },
      "source": [
        "Now let's look at the relationship between them."
      ]
    },
    {
      "cell_type": "code",
      "execution_count": null,
      "metadata": {
        "colab": {
          "base_uri": "https://localhost:8080/"
        },
        "id": "pKAXStWQ4teQ",
        "outputId": "c940b529-fa93-4b5c-f43e-7f38a34b065f"
      },
      "outputs": [
        {
          "name": "stdout",
          "output_type": "stream",
          "text": [
            "Correlation Coefficient:  -0.012127856028413023\n"
          ]
        }
      ],
      "source": [
        "print(\"Correlation Coefficient: \", EDA.score.corr(EDA.text_length))"
      ]
    },
    {
      "cell_type": "code",
      "execution_count": null,
      "metadata": {
        "colab": {
          "base_uri": "https://localhost:8080/",
          "height": 387
        },
        "id": "KxAWWvJi3hQg",
        "outputId": "2a04679e-0338-43e1-f32a-2b3c504eb3fa"
      },
      "outputs": [
        {
          "data": {
            "text/plain": [
              "(-100.0, 200.0)"
            ]
          },
          "execution_count": 43,
          "metadata": {},
          "output_type": "execute_result"
        },
        {
          "data": {
            "image/png": "[encoded data removed]",
            "text/plain": [
              "<Figure size 360x360 with 1 Axes>"
            ]
          },
          "metadata": {
            "needs_background": "light"
          },
          "output_type": "display_data"
        }
      ],
      "source": [
        "sns.lmplot(x = \"score\", y = \"text_length\", data = EDA)\n",
        "plt.xlim(-40, 200)\n",
        "plt.ylim(-100, 200)"
      ]
    },
    {
      "cell_type": "markdown",
      "metadata": {
        "id": "RQ_a_p6566sg"
      },
      "source": [
        "There isn't a strong correlation between them, which is counterintuitive. The amount of words you put in doesn't affect how many upvotes you will get. Thus, it is not reasonable to perform PCA here.\n",
        "\n",
        "Instead, we will directly use \"score\" as the \"rating\" output variable. The more upvotes one gets in the subreddit channel, the more likely one fits in this channel. The last thing we need to do here is normalize the \"score\" data."
      ]
    },
    {
      "cell_type": "markdown",
      "metadata": {
        "id": "KftYLelO75Iy"
      },
      "source": [
        "# **4. Experiments**\n",
        "\n",
        "For a comparative analysis, we divide this section into two parts. The first part uses a non-parametric method that has no trainable parameters, called user-user collaborative filtering. The second part uses matrix factorization and incorporates machine learning concepts to perform the recommendation. In the next section, we will compare and evaluate the results of both of them."
      ]
    },
    {
      "cell_type": "markdown",
      "metadata": {
        "id": "reNHxfq2puXj"
      },
      "source": [
        "## **4.1 User-user collaborative filtering.**\n",
        "\n",
        "One reasonable way to recommend is to find similar users based on your browsing history and recommend the channels similar users love.\n",
        "\n",
        "Without consideration for similarities, the predicted rating of channel j for user i would just be\n",
        "\\begin{align}\n",
        "R(i, j) = \\frac{\\sum_{i' \\in CHANNEL_j}R(i', j)}{|CHANNEL_j|}\n",
        "\\end{align}\n",
        "the average rating of this channel.\n",
        "\n",
        "Instead, we added a weight for each $R(i', j)$. The weight is the cosine similarity between user $i$ and $i'$.\n",
        "\n",
        "For example, given \n",
        "```\n",
        "User  | PublicFreakout | MadeMeSmile | AskReddit | TedLasso \n",
        "------|----------------|-------------|-----------|----------\n",
        "Tom   | 0              | 1           | 2         | 3\n",
        "Jack  | 1              | 3           | 5         | 7\n",
        "Jason | 2              | 4           | 6         | 8\n",
        "Brown | 4              | 3           | 2         | 1\n",
        "```\n",
        "The cosine similarity between Jason and Jack would be 0.996. In contrast, the cosine similarity between Jack and Brown is 0.597. By incorporating cosine similarities, Brown's ratings now matter less than Jason's ratings for Jack's recommendations. \n",
        "\n",
        "The new formula is \n",
        "\\begin{align}\n",
        "R(i, j) = \\frac{\\sum_{i' \\in CHANNEL_j}W(i, i')R(i', j)}{\\sum_{i' \\in CHANNEL_j}W(i, i')}\n",
        "\\end{align}\n",
        "where $W(i, i')$ is the cosine similarity between user $i$ and $i'$.\n",
        "\n",
        "However, there is still a problem. Even two similar users could be very different. For example, one may be popular and get upvotes all the time, while the other may only get upvotes from time to time. Thus, we want to use comparative ratings rather than raw ratings. We do so by calculating the deviations.\n",
        "\n",
        "Instead of $R(i', j)$, we use $R(i', j) - \\overline{R(i')}$ to denote the comparative ratings. The final recommendation formula we get is\n",
        "\\begin{align}\n",
        "R(i, j) = \\frac{\\sum_{i' \\in CHANNEL_j}W(i, i')(R(i', j) - \\overline{R(i')})}{\\sum_{i' \\in CHANNEL_j}W(i, i')}\n",
        "\\end{align}\n",
        "\n",
        "Additionally, we only consider the first 25 similar users' ratings. The 25 neighbor correlation weights of each user would be stored in a dictionary.\n",
        "\n",
        "Now is the implementation part."
      ]
    },
    {
      "cell_type": "markdown",
      "metadata": {
        "id": "aolqsxKHGgRb"
      },
      "source": [
        "Load in the five dictionaries."
      ]
    },
    {
      "cell_type": "code",
      "execution_count": 5,
      "metadata": {
        "id": "7Ew8PqfnAvZ2"
      },
      "outputs": [],
      "source": [
        "with open(\"Data/user_to_channel.json\", 'rb') as f:\n",
        "    user_to_channel = pickle.load(f)\n",
        "with open(\"Data/channel_to_user.json\", 'rb') as f:\n",
        "    channel_to_user = pickle.load(f)\n",
        "with open(\"Data/to_rating.json\", 'rb') as f:\n",
        "    to_rating = pickle.load(f)\n",
        "with open(\"Data/to_rating_test.json\", 'rb') as f:\n",
        "    to_rating_test = pickle.load(f)\n",
        "with open(\"Data/to_rating_val.json\", 'rb') as f:\n",
        "    to_rating_val = pickle.load(f)"
      ]
    },
    {
      "cell_type": "code",
      "execution_count": 6,
      "metadata": {
        "colab": {
          "base_uri": "https://localhost:8080/",
          "height": 0
        },
        "id": "KrA0J8V1GfeF",
        "outputId": "27abb629-778d-46da-c724-365cbd62f8f2"
      },
      "outputs": [
        {
          "name": "stdout",
          "output_type": "stream",
          "text": [
            "number of users:  9835\n",
            "number of channels:  9999\n"
          ]
        }
      ],
      "source": [
        "I = len(user_to_channel.keys())\n",
        "j1 = np.max(list(channel_to_user.keys()))\n",
        "j2 = np.max(pd.Series([m for (u,m), k in to_rating_test.items()]).unique())\n",
        "J = max(j1, j2)\n",
        "print(\"number of users: \", I)\n",
        "print(\"number of channels: \", J)"
      ]
    },
    {
      "cell_type": "markdown",
      "metadata": {
        "id": "5c6Tb8uNHGh0"
      },
      "source": [
        "Let's construct the neighbors dictionary for similarity weights."
      ]
    },
    {
      "cell_type": "code",
      "execution_count": null,
      "metadata": {
        "id": "OtCL371OG7ic"
      },
      "outputs": [],
      "source": [
        "count = 0\n",
        "# number of maximum neighbors (similar users)\n",
        "n = 25\n",
        "# Have to have more than 2 subreddits in common to be considered neighbors.\n",
        "limit = 2\n",
        "neighbors = {}\n",
        "averages = {}\n",
        "deviations = []\n",
        "for i in user_to_channel.keys():\n",
        "    # All ratings by user i\n",
        "    channel_i = user_to_channel[i]\n",
        "    channel_i_set = set(channel_i)\n",
        "    \n",
        "    # Compute the comparative rating, average rating, norm of ratings for user i\n",
        "    channel_to_rating_i = {channel: to_rating[(i, channel)] for channel in channel_i}\n",
        "    average_i = np.mean(list(channel_to_rating_i.values()))\n",
        "    rating_to_dev = {channel: rating - average_i for channel, rating in channel_to_rating_i.items()}\n",
        "    dev_i = np.array(list(rating_to_dev.values()))\n",
        "    std_i = np.sqrt(dev_i[0].dot(dev_i[0]))\n",
        "    \n",
        "    averages[i]=average_i\n",
        "    deviations.append(rating_to_dev)\n",
        "    \n",
        "    # Prepare the store the similarities\n",
        "    sl = SortedList()\n",
        "    for j in user_to_channel.keys():\n",
        "        # Loop through every other user\n",
        "        if j != i:\n",
        "            channel_j = user_to_channel[j]\n",
        "            channel_j_set = set(channel_j)\n",
        "            # number of subreddit channels in common\n",
        "            common = (channel_i_set & channel_j_set)\n",
        "            # Have to have more than 'limit' amount of channels\n",
        "            if len(common) >= limit:\n",
        "                # Compute the comparative rating, average rating, and norm of ratings for user i'.\n",
        "                channel_to_rating_j = {channel: to_rating[(j, channel)] for channel in channel_j}\n",
        "                average_j = np.mean(list(channel_to_rating_j.values()))\n",
        "                rating_to_dev_j = {channel: rating - average_j for channel, rating in channel_to_rating_j.items()}\n",
        "                dev_j = np.array(list(rating_to_dev_j.values()))\n",
        "                std_j = np.sqrt(dev_j[0].dot(dev_j[0]))\n",
        "                \n",
        "                # Calculate the similarity weights (correlation coefficient) between i and i'.\n",
        "                nom = sum(rating_to_dev[m] * rating_to_dev_j[m] for m in common)\n",
        "                denom = std_i * std_j\n",
        "                w_ij = nom/denom\n",
        "                \n",
        "                # Store the weights into a sorted list\n",
        "                sl.add((-w_ij, j))\n",
        "                # Only keep n top neightbors.\n",
        "                if len(sl) > n:\n",
        "                    del sl[-1]\n",
        "\n",
        "    neighbors[i] = (sl)\n",
        "    count += 1\n"
      ]
    },
    {
      "cell_type": "markdown",
      "metadata": {
        "id": "lLK7lvnhKe10"
      },
      "source": [
        "By the formula we derived, we can get the prediction using the neighbor dictionary."
      ]
    },
    {
      "cell_type": "code",
      "execution_count": null,
      "metadata": {
        "id": "XFYD5oWwKJvD"
      },
      "outputs": [],
      "source": [
        "# Prediction using the neightbor dictionary\n",
        "def predict(i, m):\n",
        "    numerator = 0\n",
        "    denominator = 0\n",
        "    for neg_w, j in neighbors[i]:\n",
        "        # if i exists, then calculate\n",
        "        try:\n",
        "            # the formula we derived\n",
        "            numerator += -neg_w * deviations[j][m]\n",
        "            denominator += abs(neg_w)\n",
        "        # otherwise pass\n",
        "        except:\n",
        "            pass\n",
        "    if denominator == 0:\n",
        "        prediction = averages[i]\n",
        "    else:\n",
        "        prediction = averages[i] + (numerator/denominator)\n",
        "    if isinstance(prediction, np.ndarray):\n",
        "        prediction = prediction.tolist()[0]\n",
        "    return prediction\n",
        "\n",
        "# Training set predictions\n",
        "train_prediction = []\n",
        "train_target = []\n",
        "for (i,m), target in to_rating.items():\n",
        "    prediction = predict(i, m)\n",
        "    train_prediction.append(prediction)\n",
        "    train_target.append(target[0])\n",
        "\n",
        "# Testing set predictions\n",
        "test_prediction = []\n",
        "test_target = []\n",
        "for (i,m), target in to_rating_test.items():\n",
        "    if i in neighbors.keys():\n",
        "        prediction = predict(i, m)\n",
        "        test_prediction.append(prediction)\n",
        "        test_target.append(target[0])"
      ]
    },
    {
      "cell_type": "markdown",
      "metadata": {
        "id": "dOZelxtMjoFV"
      },
      "source": [
        "For now, we have pretty much finished building the user-user recommendation system. The results are stored in *train_prediction* and *test_prediction*. We will evaluate them after implementing the next method, matrix factorization."
      ]
    },
    {
      "cell_type": "markdown",
      "metadata": {
        "id": "vDFPH5_zGMkb"
      },
      "source": [
        "## 4.2 Matrix Factorization"
      ]
    },
    {
      "cell_type": "markdown",
      "metadata": {
        "id": "tJbPuIBjj9bJ"
      },
      "source": [
        "### **4.2.1 Intuition**\n",
        "\n",
        "Recall the user-item matrix in 4.1. It is a $N \\times M$ sparse matrix with only Z existing data. We will call the matrix $\\Omega$.\n",
        "\n",
        "\n",
        "```\n",
        "User    | Channel_1 | Channel_2 | ... | Channel_m \n",
        "--------|-----------|-----------|-----|----------\n",
        "user_1  | \\         | 1         | ... | \\\n",
        "user_2  | 1         | 3         | ... | 7\n",
        "...     | ...       | ...       | ... | ...\n",
        "user_n  | \\         | \\         | ... | 1\n",
        "```\n",
        "According to singular value decomposition theory, a $N \\times M$ real or complex matrix factorized and expressed as the product of three matrices $U \\times \\Sigma \\times V^{T}$, where $U$ is a $N \\times N$ matrix, $\\Sigma$ is a $N \\times M$ matrix, and $V$ is a $M \\times M$ matrix.\n",
        "\n",
        "Additionally, we can truncate three matrices to make them smaller by choosing a value $K$ that is less than $N$ and $M$. Now, $U$ has the shape of $N \\times K$, $\\Sigma$ has the shape of $K \\times K$, and $V$ has the shape of $K \\times M$. But still, we get an approximately similar matrix $\\hat{\\Omega}$ by multiplying the three truncated matrices.\n",
        "\n",
        "In matrix factorization, we only use 2 instead of 3 matrices to estimate $\\Omega$. Our estimation formula is written as \n",
        "\\begin{align}\n",
        "\\hat{\\Omega} = W \\times U^{T}\n",
        "\\end{align}\n",
        "\n",
        "In this project, $N$ and $M$ are 10,000, while $Z$ is around 360,000, which means $1-\\frac{360,000}{100,000,000} = 99.7\\%$ of this matrix is empty. Since we only feed existing data into the model, $W$ and $U$ will only learn to effectively predict existing data ($0.3\\%$).\n",
        "\n",
        "However, we don't know whether they will predict the rest of the matrix (99.7%) well. Plus, there's no way to evaluate the estimates since we don't know the true data.\n",
        "\n",
        "Thus, we split the existing data into training and testing sets. In the training section, we feed into the model around $220,000$ data. Then we use the model to predict $72,000$ data in the testing set (the rest of the data is in the validation set). The evaluation will be based on the testing dataset.\n",
        "\n",
        "To predict one particular rating, we do not need to perform the entire matrix multiplication. For example, to get the predicted rating of user i on channel j, we could use the formula\n",
        "\\begin{align} \n",
        "\\hat{\\Omega}_{i, j} = W_{i} \\times U_{j}^{T}\n",
        "\\end{align}\n",
        "based on the rules of matrix multiplication.\n",
        "\n",
        "This way of looking at it helps us to interpret the matrix factorization process. Let's take users \"TOM\" & \"JACK\" and channels \"TedLasso\" & \"SAT,\" for instance. Suppose the $W_{i}$ for \"TOM\" and \"JACK\" is\n",
        "```\n",
        "TOM  | 4     | 7     | 1     | 2     | 1\n",
        "JACK | 1     | 1     | 2     | 9     | 4\n",
        "```\n",
        "$U_{j}$ for \"TedLasso\" and \"SAT\" is \n",
        "```\n",
        "TedLasso | 1     | 10     | 9     | 2     | 0\n",
        "SAT      | 1     | 1      | 1     | 8     | 2\n",
        "```\n",
        "\n",
        "Notice that if we want to predict the rating of one user on one channel, we calculate the product of the same columns and take the sum of them. This process is very similar to calculating cosine similarity. Thus, we can interpret the columns of $W$ and $U$ as arbitrary categories that the program gradually learns. \n",
        "\n",
        "For example, the second category could be a \"SPORT\" characteristic. Tom likes sports, so he has a 7. Ted Lasso is a sports show, so it has a 10. Jack may be a rising senior and care about studying more, so he has a 1. Similarly, SAT has nothing to do with sports, so it gets a 1. In this way, when predicting the ratings for TedLasso, Tom would gain $(7)\\times(10)$ predicted ratings based solely on the second category, and Jack only gains $(1)\\times(10)$ predicted ratings. In contrast, when we predict the ratings for SAT, the second category doesn't contribute greatly to either of them.\n",
        "\n",
        "The amount of categories, $K$, is a controllable variable. The larger K is, the more complicated the algorithm and the more likely the model will perform on complex scenarios. Notice, unlike what we just assume, the categories trained by the model don't have an explicitly interpretable name such as \"SPORT.\" Instead, the categories are \"LATENT.\"\n",
        "\n",
        "Now let's initialize these matrices."
      ]
    },
    {
      "cell_type": "code",
      "execution_count": 159,
      "metadata": {
        "id": "w3gwXbHBL-X0"
      },
      "outputs": [],
      "source": [
        "K = 100\n",
        "W = np.random.randn(10000, K)\n",
        "P = np.zeros(10000)\n",
        "U = np.random.randn(10000, K)\n",
        "Q = np.zeros(10000)\n",
        "mu = np.mean(list(to_rating.values()))"
      ]
    },
    {
      "cell_type": "markdown",
      "metadata": {
        "id": "bwr5nV2lbWTk"
      },
      "source": [
        "Note that except $K, W,$ and $U$, there are more variables $P$, $Q$, and $\\mu$. These are bias terms that help make our predictions more accurate.\n",
        "\n",
        "Recall we used\n",
        "\\begin{align} \n",
        "\\hat{\\Omega}_{i, j} = W_{i} \\times U_{j}^{T}\n",
        "\\end{align}\n",
        "to predict ratings.\n",
        "\n",
        "However, there's a problem with our previous method. Even if two channels have the exact same characteristics and have very similar categorical ratings, their quality could be very different. Similarly, similar users could have different devotion to using Reddit as well. Thus, we introduce $P$ and $Q$ as bias terms for users and channels. They are trainable as well.\n",
        "\n",
        "$\\mu$ is the global average rating that helps us center our predictions. It doesn't need to be trained.\n",
        "\n",
        "The final prediction formula becomes\n",
        "\\begin{align} \n",
        "\\hat{\\Omega}_{i, j} = W_{i} \\times U_{j}^{T} + P_{i} + Q_{j} + \\mu\n",
        "\\end{align}"
      ]
    },
    {
      "cell_type": "markdown",
      "metadata": {
        "id": "ntwNp1kGc1GA"
      },
      "source": [
        "### **4.2.2 Loss function and Optimizer**\n",
        "The loss function and optimizer we use are simple: MEAN SQUARE ERROR & GRADIENT DESCENT. Let's first define our loss function. The for loop loops through every existing data in d (training set & testing set would be passed into it).\n"
      ]
    },
    {
      "cell_type": "code",
      "execution_count": 158,
      "metadata": {
        "id": "ONNFEtE0MGqc"
      },
      "outputs": [],
      "source": [
        "def get_loss(d):\n",
        "    N = float(len(d))\n",
        "    Error = 0\n",
        "    for k, r in d.items():\n",
        "        i, j = k\n",
        "        p = W[i].dot(U[j]) + P[i] + Q[j] + mu\n",
        "        Error += (p-r)*(p-r)\n",
        "    return Error/N"
      ]
    },
    {
      "cell_type": "markdown",
      "metadata": {
        "id": "QYcLZr4Ndo1Z"
      },
      "source": [
        "Now, all we need to do is to derive the update rule by calculating the derivative of our loss function with respect to each parameter.\n",
        "\n",
        "Our loss function is\n",
        "\\begin{align}\n",
        "J &= \\sum_{Z}(\\Omega_{i, j} - \\hat{\\Omega}_{i_j})^{2} \\\\\n",
        "&= \\sum_{Z}(\\Omega_{i, j} - W_{i} \\times U_{j}^{T} - P_{i} - Q_{j} - \\mu)^{2}\n",
        "\\end{align}\n",
        "\n",
        "Let's start with $W$\n",
        "\\begin{align}\n",
        "\\frac{\\partial J}{\\partial W_{i}} &= \\frac{\\partial}{\\partial W_{i}}\\sum_{Z_{i}}(\\Omega_{i, j} - W_{i} \\times U_{j}^{T} - P_{i} - Q_{j} - \\mu)^{2} \\\\\n",
        "&= 2 \\sum_{Z_{i}}(\\Omega_{i, j} - W_{i} \\times U_{j}^{T} - P_{i} - Q_{j} - \\mu)(-U_{j})    & \\text{##Chain rule}\\\\\n",
        "&=0\\\\\n",
        "\\end{align}\n",
        "So\n",
        "$$\\sum_{Z_i}(\\Omega_{i, j} - P_{i} - Q_{j} - \\mu)(U_{j}) = \\sum_{Z_i}(W_{i} \\times U_{j}^{T})(U_{j})$$\n",
        "Since $W_{i}$ is a constant for all element in $Z_{i}$, we get\n",
        "$$\\sum_{Z_i}(\\Omega_{i, j} - P_{i} - Q_{j} - \\mu)(U_{j}) = W_{i}\\sum_{Z_i}(U_{j}^{T})(U_{j})$$\n",
        "$$W_{i} = [\\sum_{Z_i}(\\Omega_{i, j} - P_{i} - Q_{j} - \\mu)(U_{j})](\\sum_{Z_i}U_{j}^{T}U_{j})^{-1}$$\n",
        "The updating rule for $U$ can be derived in the exact same way as $W$.\n",
        "$$U_{J} = [\\sum_{Z_j}(\\Omega_{i, j} - P_{i} - Q_{j} - \\mu)(W_{i})](\\sum_{Z_j}W_{i}^{T}W_{i})^{-1}$$\n",
        "The derivations for P and Q are similar.\n",
        "\\begin{align}\n",
        "\\frac{\\partial J}{\\partial P_{i}} &= \\frac{\\partial}{\\partial P_{i}}\\sum_{Z_{i}}(\\Omega_{i, j} - W_{i} \\times U_{j}^{T} - P_{i} - Q_{j} - \\mu)^{2} \\\\\n",
        "&= 2 \\sum_{Z_{i}}(\\Omega_{i, j} - W_{i} \\times U_{j}^{T} - P_{i} - Q_{j} - \\mu)(-1)\\\\\n",
        "&=0\\\\\n",
        "\\sum_{Z_{i}}(&\\Omega_{i, j} - W_{i} \\times U_{j}^{T} - Q_{j} - \\mu) = \\sum_{Z_{i}}P_{i}\\\\\n",
        "P_{i} = &\\frac{1}{|Z_{i}|}\\sum_{Z_{i}}(\\Omega_{i, j} - W_{i} \\times U_{j}^{T} - Q_{j} - \\mu)\\\\\n",
        "\\text{and}\\\\\n",
        "Q_{j} = &\\frac{1}{|Z_{j}|}\\sum_{Z_{j}}(\\Omega_{i, j} - W_{i} \\times U_{j}^{T} - P_{i} - \\mu)\n",
        "\\end{align}\n"
      ]
    },
    {
      "cell_type": "markdown",
      "metadata": {
        "id": "7_k-vH97eAQy"
      },
      "source": [
        "### **4.2.3 Regularization**\n",
        "\n",
        "Note that the user-item matrix we use to train the model is really sparse. Thus, it may be really easy to overfit. We add a regularization term (just like ridge and lasso) to the loss function in response to this problem. Now \n",
        "$$J = \\sum_{Z}(\\Omega_{i, j} - \\hat{\\Omega}_{i_j})^{2} + \\lambda(||W||^2 + ||U||^2 + ||P||^2 + ||Q||^2)$$\n",
        "The update rule for each parameter changes a little bit.\n",
        "\\begin{align}\n",
        "\\left\\{\n",
        "\\begin{array}{C}\n",
        "W_{i} = [\\sum_{Z_i}(\\Omega_{i, j} - P_{i} - Q_{j} - \\mu)(U_{j})](\\sum_{Z_i}U_{j}^{T}U_{j} + \\lambda I)^{-1}\\\\\n",
        "U_{j} = [\\sum_{Z_j}(\\Omega_{i, j} - P_{i} - Q_{j} - \\mu)(W_{i})](\\sum_{Z_j}W_{i}^{T}W_{i} + \\lambda I)^{-1}\\\\\n",
        "P_{i} = \\frac{1}{|Z_{i}|+\\lambda}\\sum_{Z_{i}}(\\Omega_{i, j} - W_{i} \\times U_{j}^{T} - Q_{j} - \\mu)\\\\\n",
        "Q_{j} = \\frac{1}{|Z_{j}|+\\lambda}\\sum_{Z_{j}}(\\Omega_{i, j} - W_{i} \\times U_{j}^{T} - P_{i} - \\mu)\n",
        "\\end{array}\n",
        "\\right.\n",
        "\\end{align}\n",
        "Additionally, we use EARLY STOPPING as another regularization method during training. We terminate the training if the validation loss increases for two consecutive epochs."
      ]
    },
    {
      "cell_type": "markdown",
      "metadata": {
        "id": "ekP_VgHmftxp"
      },
      "source": [
        "### **4.2.4 Training**\n",
        "In each epoch, we update 4 parameters one by one. This method is called alternative least squares and has proven effective in many cases.\n",
        "\n",
        "The general procedure we perform for each epoch is\n",
        "\n",
        "\n",
        "1.   Loop through all user\n",
        "2.   Update $W_{i}$ and $P_{i}$ for each user $i$\n",
        "3.   Loop through all channels\n",
        "4.   Update $U_{j}$ and $Q_{j}$ for each channel $j$\n",
        "5.   Calculate train/validation loss for this epoch\n",
        "6.   Terminate training if validation loss increases for two consecutive epochs.\n",
        "\n",
        "The maximum epochs we allow is 20.\n",
        "\n",
        "There are two parameters we need to tune in the training process. The value of the size of the latent dimension, $K$, and the value of the regularization term $\\lambda$.\n",
        "\n",
        "Due to the lack of computational power, we tune these two parameters one by one. First, we investigate the relationship between $\\lambda$ and the model performance."
      ]
    },
    {
      "cell_type": "code",
      "execution_count": null,
      "metadata": {
        "id": "SV97JZ4YMBYH"
      },
      "outputs": [],
      "source": [
        "train_vs_reg = []\n",
        "val_vs_reg = []\n",
        "test_vs_reg = []\n",
        "for i in [1, 3, 10, 30, 100, 300, 1000, 3000, 10000]:\n",
        "    epochs = 20\n",
        "    reg = i\n",
        "    train_losses = []\n",
        "    val_losses = []\n",
        "    train_losses.append(get_loss(to_rating))\n",
        "    val_losses.append(get_loss(to_rating_val))\n",
        "    stop = 0\n",
        "    for epoch in range(epochs):\n",
        "        print(\"epoch:\", epoch)\n",
        "        epoch_start = datetime.now()\n",
        "        \n",
        "        t0 = datetime.now()\n",
        "        for i in user_to_channel.keys():\n",
        "            matrix = np.eye(K) * reg\n",
        "            vector = np.zeros(K)\n",
        "            \n",
        "            pi = 0\n",
        "            for j in user_to_channel[i]:\n",
        "                r = to_rating[(i, j)]\n",
        "                matrix += np.outer(U[j], U[j])\n",
        "                vector += (r - P[i] - Q[i] - mu) * U[j]\n",
        "                pi += (r - W[i].dot(U[j]) - Q[j] - mu)\n",
        "            \n",
        "            W[i] = np.linalg.solve(matrix, vector)\n",
        "            P[i] = pi / (len(user_to_channel[i]) + reg)\n",
        "        \n",
        "        for j in channel_to_user.keys():\n",
        "            matrix = np.eye(K) * reg\n",
        "            vector = np.zeros(K)\n",
        "            \n",
        "            Qj = 0\n",
        "            try:\n",
        "                for i in channel_to_user[j]:\n",
        "                    r = to_rating[(i, j)]\n",
        "                    matrix += np.outer(W[i], W[i])\n",
        "                    vector += (r - P[i] - Q[j] - mu) * W[i]\n",
        "                    Qj += (r - W[i].dot(U[j]) - P[i] - mu)\n",
        "                \n",
        "                U[j] = np.linalg.solve(matrix, vector)\n",
        "                Q[j] = Qj / (len(channel_to_user[j]) + reg)\n",
        "                \n",
        "            except KeyError:\n",
        "                pass\n",
        "        \n",
        "        train_losses.append(get_loss(to_rating))\n",
        "        val_losses.append(get_loss(to_rating_val))\n",
        "        print(\"time spent:\", datetime.now() - t0)\n",
        "        print(\"train loss:\", train_losses[-1])\n",
        "        print(\"validation loss:\", val_losses[-1])\n",
        "        print(get_loss(to_rating_test))\n",
        "        if val_losses[-1] > val_losses[-2]:\n",
        "            stop += 1\n",
        "        else:\n",
        "            stop = 0\n",
        "        if stop == 2:\n",
        "            break\n",
        "    train_vs_reg.append(train_losses)\n",
        "    val_vs_reg.append(val_losses)\n",
        "    K = 100\n",
        "    W = np.random.randn(10000, K)\n",
        "    P = np.zeros(10000)\n",
        "    U = np.random.randn(10000, K)\n",
        "    Q = np.zeros(10000)\n",
        "    mu = np.mean(list(to_rating.values()))"
      ]
    },
    {
      "cell_type": "code",
      "execution_count": 40,
      "metadata": {
        "colab": {
          "base_uri": "https://localhost:8080/",
          "height": 313
        },
        "id": "iCE2XHFUYPNN",
        "outputId": "ecf64f2e-a363-4020-9834-a9bf98f58c11"
      },
      "outputs": [
        {
          "data": {
            "text/plain": [
              "Text(0.5, 0, 'Regularization term in log scale')"
            ]
          },
          "execution_count": 40,
          "metadata": {},
          "output_type": "execute_result"
        },
        {
          "data": {
            "image/png": "[encoded data removed]",
            "text/plain": [
              "<Figure size 864x288 with 2 Axes>"
            ]
          },
          "metadata": {
            "needs_background": "light"
          },
          "output_type": "display_data"
        }
      ],
      "source": [
        "losses = [i[-1] for i in val_vs_reg[0:9]]\n",
        "plt.rcParams['figure.figsize'] = [12,4]\n",
        "plt.subplot(1, 2, 1)\n",
        "plt.plot(range(1, len(val_vs_reg[0])+1), val_vs_reg[0], label='reg = 1')\n",
        "plt.plot(range(1, len(val_vs_reg[1])+1), val_vs_reg[1], label='reg = 3')\n",
        "plt.plot(range(1, len(val_vs_reg[2])+1), val_vs_reg[2], label='reg = 10')\n",
        "plt.plot(range(1, len(val_vs_reg[3])+1), val_vs_reg[3], label='reg = 30')\n",
        "plt.plot(range(1, len(val_vs_reg[4])+1), val_vs_reg[4], label='reg = 100')\n",
        "plt.plot(range(1, len(val_vs_reg[5])+1), val_vs_reg[5], label='reg = 300')\n",
        "plt.plot(range(1, len(val_vs_reg[6])+1), val_vs_reg[6], label='reg = 1000')\n",
        "plt.plot(range(1, len(val_vs_reg[7])+1), val_vs_reg[7], label='reg = 3000')\n",
        "plt.plot(range(1, len(val_vs_reg[8])+1), val_vs_reg[8], label='reg = 10000')\n",
        "plt.legend()\n",
        "plt.subplot(1, 2, 2)\n",
        "plt.plot([0, 0.5, 1, 1.5, 2, 2.5, 3, 3.5, 4], losses[0:9])\n",
        "plt.title(\"Minimum loss vs. Regularization value\")\n",
        "plt.xlabel(\"Regularization term in log scale\")"
      ]
    },
    {
      "cell_type": "markdown",
      "metadata": {
        "id": "5BmUyNhIkLat"
      },
      "source": [
        "The first plot graphs the whole training process, while the second only records the minimum loss for each regularization value.\n",
        "\n",
        "The up-and-downs in the graph indicate that how we initialize $W$ and $U$ is crucial to the model performance. The pattern we see now is generally correct but not accurate enough. However, the computational power doesn't allow for performing cross-validation. \n",
        "\n",
        "Thus, we train the model three times each for $\\lambda$ value of $10$, $30$, $100$, $300$, $1000$, and $3000$, and take the average of them for better accuracy."
      ]
    },
    {
      "cell_type": "code",
      "execution_count": null,
      "metadata": {
        "id": "qRmaZoYgQbSC"
      },
      "outputs": [],
      "source": [
        "AAAA = []\n",
        "BBBB = []\n",
        "for i in [10, 30, 100, 300, 1000, 3000]:\n",
        "    AAA = []\n",
        "    BBB = []\n",
        "    for k in [1, 2, 3]:\n",
        "      epochs = 20\n",
        "      reg = i\n",
        "      train_losses = []\n",
        "      val_losses = []\n",
        "      train_losses.append(get_loss(to_rating))\n",
        "      val_losses.append(get_loss(to_rating_val))\n",
        "      stop = 0\n",
        "      for epoch in range(epochs):\n",
        "          print(\"epoch:\", epoch)\n",
        "          epoch_start = datetime.now()\n",
        "          \n",
        "          t0 = datetime.now()\n",
        "          for i in user_to_channel.keys():\n",
        "              matrix = np.eye(K) * reg\n",
        "              vector = np.zeros(K)\n",
        "              \n",
        "              pi = 0\n",
        "              for j in user_to_channel[i]:\n",
        "                  r = to_rating[(i, j)]\n",
        "                  matrix += np.outer(U[j], U[j])\n",
        "                  vector += (r - P[i] - Q[i] - mu) * U[j]\n",
        "                  pi += (r - W[i].dot(U[j]) - Q[j] - mu)\n",
        "              \n",
        "              W[i] = np.linalg.solve(matrix, vector)\n",
        "              P[i] = pi / (len(user_to_channel[i]) + reg)\n",
        "          \n",
        "          for j in channel_to_user.keys():\n",
        "              matrix = np.eye(K) * reg\n",
        "              vector = np.zeros(K)\n",
        "              \n",
        "              Qj = 0\n",
        "              try:\n",
        "                  for i in channel_to_user[j]:\n",
        "                      r = to_rating[(i, j)]\n",
        "                      matrix += np.outer(W[i], W[i])\n",
        "                      vector += (r - P[i] - Q[j] - mu) * W[i]\n",
        "                      Qj += (r - W[i].dot(U[j]) - P[i] - mu)\n",
        "                  \n",
        "                  U[j] = np.linalg.solve(matrix, vector)\n",
        "                  Q[j] = Qj / (len(channel_to_user[j]) + reg)\n",
        "                  \n",
        "              except KeyError:\n",
        "                  pass\n",
        "          \n",
        "          train_losses.append(get_loss(to_rating))\n",
        "          val_losses.append(get_loss(to_rating_val))\n",
        "          print(\"time spent:\", datetime.now() - t0)\n",
        "          print(\"train loss:\", train_losses[-1])\n",
        "          print(\"validation loss:\", val_losses[-1])\n",
        "          if val_losses[-1] > val_losses[-2]:\n",
        "              stop += 1\n",
        "          else:\n",
        "              stop = 0\n",
        "          if stop == 2:\n",
        "              break\n",
        "      AAA.append(train_losses[-1])\n",
        "      BBB.append(val_losses[-1])\n",
        "      K = 100\n",
        "      W = np.random.randn(10000, K)\n",
        "      P = np.zeros(10000)\n",
        "      U = np.random.randn(10000, K)\n",
        "      Q = np.zeros(10000)\n",
        "      mu = np.mean(list(to_rating.values()))\n",
        "    AAAA.append(AAA)\n",
        "    BBBB.append(BBB)"
      ]
    },
    {
      "cell_type": "code",
      "execution_count": 49,
      "metadata": {
        "id": "HDRlBhnsa6FO"
      },
      "outputs": [],
      "source": [
        "losses[2] = np.array(BBBB[0]).mean()\n",
        "losses[3] = np.array(BBBB[1]).mean()\n",
        "losses[4] = np.array(BBBB[2]).mean()\n",
        "losses[5] = np.array(BBBB[3]).mean()\n",
        "losses[6] = np.array(BBBB[4]).mean()\n",
        "losses[7] = np.array(BBBB[5]).mean()"
      ]
    },
    {
      "cell_type": "code",
      "execution_count": 58,
      "metadata": {
        "colab": {
          "base_uri": "https://localhost:8080/",
          "height": 369
        },
        "id": "iZWrj34yrteM",
        "outputId": "44da99e0-970e-467d-d596-2f6e818e3a1f"
      },
      "outputs": [
        {
          "name": "stderr",
          "output_type": "stream",
          "text": [
            "/usr/local/lib/python3.8/dist-packages/numpy/core/shape_base.py:65: VisibleDeprecationWarning: Creating an ndarray from ragged nested sequences (which is a list-or-tuple of lists-or-tuples-or ndarrays with different lengths or shapes) is deprecated. If you meant to do this, you must specify 'dtype=object' when creating the ndarray.\n",
            "  ary = asanyarray(ary)\n"
          ]
        },
        {
          "data": {
            "text/plain": [
              "Text(0.5, 0, 'Regularization term in log scale')"
            ]
          },
          "execution_count": 58,
          "metadata": {},
          "output_type": "execute_result"
        },
        {
          "data": {
            "image/png": "[encoded data removed]",
            "text/plain": [
              "<Figure size 864x288 with 1 Axes>"
            ]
          },
          "metadata": {
            "needs_background": "light"
          },
          "output_type": "display_data"
        }
      ],
      "source": [
        "plt.plot([0, 0.5, 1, 1.5, 2, 2.5, 3, 3.5, 4], losses[0:9])\n",
        "plt.title(\"Minimum loss vs. Regularization value\")\n",
        "plt.xlabel(\"Regularization term in log scale\")"
      ]
    },
    {
      "cell_type": "markdown",
      "metadata": {
        "id": "w6kdbxhtsEs2"
      },
      "source": [
        "The graph now is a lot smoother. We choose $\\lambda = 100$ as our best parameter. Now let's tune the size of the latent space."
      ]
    },
    {
      "cell_type": "markdown",
      "metadata": {
        "id": "EaL4GvEZk0uL"
      },
      "source": [
        "The results are very unstable if we only train once for each $K$. We do it again by lowering the maximum epochs but increasing the sample size (30) for each $K$ to decrease the variance."
      ]
    },
    {
      "cell_type": "code",
      "execution_count": null,
      "metadata": {
        "id": "jSc4CZxswcaH"
      },
      "outputs": [],
      "source": [
        "AAAA = []\n",
        "BBBB = []"
      ]
    },
    {
      "cell_type": "code",
      "execution_count": null,
      "metadata": {
        "id": "fZkDGmKAlAQI"
      },
      "outputs": [],
      "source": [
        "for p in [10, 30, 50, 70, 90]:\n",
        "    AAA = []\n",
        "    BBB = []\n",
        "    for k in range(30):\n",
        "      K = p\n",
        "      W = np.random.randn(10000, K)\n",
        "      P = np.zeros(10000)\n",
        "      U = np.random.randn(10000, K)\n",
        "      Q = np.zeros(10000)\n",
        "      mu = np.mean(list(to_rating.values()))\n",
        "      epochs = 3\n",
        "      reg = 100\n",
        "      train_losses = []\n",
        "      val_losses = []\n",
        "      train_losses.append(get_loss(to_rating))\n",
        "      val_losses.append(get_loss(to_rating_val))\n",
        "      stop = 0\n",
        "      for epoch in range(epochs):\n",
        "          print(\"epoch:\", epoch)\n",
        "          epoch_start = datetime.now()\n",
        "          \n",
        "          t0 = datetime.now()\n",
        "          for i in user_to_channel.keys():\n",
        "              matrix = np.eye(K) * reg\n",
        "              vector = np.zeros(K)\n",
        "              \n",
        "              pi = 0\n",
        "              for j in user_to_channel[i]:\n",
        "                  r = to_rating[(i, j)]\n",
        "                  matrix += np.outer(U[j], U[j])\n",
        "                  vector += (r - P[i] - Q[i] - mu) * U[j]\n",
        "                  pi += (r - W[i].dot(U[j]) - Q[j] - mu)\n",
        "              \n",
        "              W[i] = np.linalg.solve(matrix, vector)\n",
        "              P[i] = pi / (len(user_to_channel[i]) + reg)\n",
        "          \n",
        "          for j in channel_to_user.keys():\n",
        "              matrix = np.eye(K) * reg\n",
        "              vector = np.zeros(K)\n",
        "              \n",
        "              Qj = 0\n",
        "              try:\n",
        "                  for i in channel_to_user[j]:\n",
        "                      r = to_rating[(i, j)]\n",
        "                      matrix += np.outer(W[i], W[i])\n",
        "                      vector += (r - P[i] - Q[j] - mu) * W[i]\n",
        "                      Qj += (r - W[i].dot(U[j]) - P[i] - mu)\n",
        "                  \n",
        "                  U[j] = np.linalg.solve(matrix, vector)\n",
        "                  Q[j] = Qj / (len(channel_to_user[j]) + reg)\n",
        "                  \n",
        "              except KeyError:\n",
        "                  pass\n",
        "          \n",
        "          train_losses.append(get_loss(to_rating))\n",
        "          val_losses.append(get_loss(to_rating_val))\n",
        "          print(\"time spent:\", datetime.now() - t0)\n",
        "          print(\"train loss:\", train_losses[-1])\n",
        "          print(\"validation loss:\", val_losses[-1])\n",
        "          if val_losses[-1] > val_losses[-2]:\n",
        "              stop += 1\n",
        "          else:\n",
        "              stop = 0\n",
        "          if stop == 2:\n",
        "              break\n",
        "      AAA.append(train_losses[-1])\n",
        "      BBB.append(val_losses[-1])\n",
        "    AAAA.append(AAA)\n",
        "    BBBB.append(BBB)"
      ]
    },
    {
      "cell_type": "code",
      "execution_count": 96,
      "metadata": {
        "id": "HXu3dmfovDG_"
      },
      "outputs": [],
      "source": [
        "losses = [0, 0, 0, 0, 0]\n",
        "for i in range(0, 5):\n",
        "  DDDD = []\n",
        "  for j in range(len(BBBB)//5):\n",
        "    DDDD += BBBB[j*5 + i]\n",
        "  losses[i] = np.array(DDDD).mean()"
      ]
    },
    {
      "cell_type": "code",
      "execution_count": 98,
      "metadata": {
        "colab": {
          "base_uri": "https://localhost:8080/",
          "height": 283
        },
        "id": "6DSTDRYPrWhz",
        "outputId": "4cefc409-768d-4615-e631-a7fee559145b"
      },
      "outputs": [
        {
          "data": {
            "text/plain": [
              "[<matplotlib.lines.Line2D at 0x7fb1f1cdf490>]"
            ]
          },
          "execution_count": 98,
          "metadata": {},
          "output_type": "execute_result"
        },
        {
          "data": {
            "image/png": "[encoded data removed]",
            "text/plain": [
              "<Figure size 864x288 with 1 Axes>"
            ]
          },
          "metadata": {
            "needs_background": "light"
          },
          "output_type": "display_data"
        }
      ],
      "source": [
        "plt.plot(np.arange(10, 100, 20), losses)"
      ]
    },
    {
      "cell_type": "markdown",
      "metadata": {
        "id": "vevMbcKb6doI"
      },
      "source": [
        "What about K less than 10?"
      ]
    },
    {
      "cell_type": "code",
      "execution_count": 100,
      "metadata": {
        "id": "GwUPhMJc7GiK"
      },
      "outputs": [],
      "source": [
        "AAAA = []\n",
        "BBBB = []"
      ]
    },
    {
      "cell_type": "code",
      "execution_count": null,
      "metadata": {
        "id": "RCddCAyu7BzB"
      },
      "outputs": [],
      "source": [
        "for p in [1, 3, 5, 7, 9]:\n",
        "    AAA = []\n",
        "    BBB = []\n",
        "    for k in range(10):\n",
        "      K = p\n",
        "      W = np.random.randn(10000, K)\n",
        "      P = np.zeros(10000)\n",
        "      U = np.random.randn(10000, K)\n",
        "      Q = np.zeros(10000)\n",
        "      mu = np.mean(list(to_rating.values()))\n",
        "      epochs = 3\n",
        "      reg = 100\n",
        "      train_losses = []\n",
        "      val_losses = []\n",
        "      train_losses.append(get_loss(to_rating))\n",
        "      val_losses.append(get_loss(to_rating_val))\n",
        "      stop = 0\n",
        "      for epoch in range(epochs):\n",
        "          print(\"epoch:\", epoch)\n",
        "          epoch_start = datetime.now()\n",
        "          \n",
        "          t0 = datetime.now()\n",
        "          for i in user_to_channel.keys():\n",
        "              matrix = np.eye(K) * reg\n",
        "              vector = np.zeros(K)\n",
        "              \n",
        "              pi = 0\n",
        "              for j in user_to_channel[i]:\n",
        "                  r = to_rating[(i, j)]\n",
        "                  matrix += np.outer(U[j], U[j])\n",
        "                  vector += (r - P[i] - Q[i] - mu) * U[j]\n",
        "                  pi += (r - W[i].dot(U[j]) - Q[j] - mu)\n",
        "              \n",
        "              W[i] = np.linalg.solve(matrix, vector)\n",
        "              P[i] = pi / (len(user_to_channel[i]) + reg)\n",
        "          \n",
        "          for j in channel_to_user.keys():\n",
        "              matrix = np.eye(K) * reg\n",
        "              vector = np.zeros(K)\n",
        "              \n",
        "              Qj = 0\n",
        "              try:\n",
        "                  for i in channel_to_user[j]:\n",
        "                      r = to_rating[(i, j)]\n",
        "                      matrix += np.outer(W[i], W[i])\n",
        "                      vector += (r - P[i] - Q[j] - mu) * W[i]\n",
        "                      Qj += (r - W[i].dot(U[j]) - P[i] - mu)\n",
        "                  \n",
        "                  U[j] = np.linalg.solve(matrix, vector)\n",
        "                  Q[j] = Qj / (len(channel_to_user[j]) + reg)\n",
        "                  \n",
        "              except KeyError:\n",
        "                  pass\n",
        "          \n",
        "          train_losses.append(get_loss(to_rating))\n",
        "          val_losses.append(get_loss(to_rating_val))\n",
        "          print(\"time spent:\", datetime.now() - t0)\n",
        "          print(\"train loss:\", train_losses[-1])\n",
        "          print(\"validation loss:\", val_losses[-1])\n",
        "          if val_losses[-1] > val_losses[-2]:\n",
        "              stop += 1\n",
        "          else:\n",
        "              stop = 0\n",
        "          if stop == 2:\n",
        "              break\n",
        "      AAA.append(train_losses[-1])\n",
        "      BBB.append(val_losses[-1])\n",
        "    AAAA.append(AAA)\n",
        "    BBBB.append(BBB)"
      ]
    },
    {
      "cell_type": "code",
      "execution_count": 144,
      "metadata": {
        "id": "mtHMP7r57QNH"
      },
      "outputs": [],
      "source": [
        "losses = [0, 0, 0, 0, 0]\n",
        "for i in range(0, 5):\n",
        "  DDDD = []\n",
        "  for j in range(len(BBBB)//5):\n",
        "    DDDD += BBBB[j*5 + i]\n",
        "  losses[i] = np.array(DDDD).mean()"
      ]
    },
    {
      "cell_type": "code",
      "execution_count": 146,
      "metadata": {
        "colab": {
          "base_uri": "https://localhost:8080/",
          "height": 283
        },
        "id": "od--nd71-Zf8",
        "outputId": "594cea77-32c6-44ab-c0c7-ceebd482eaef"
      },
      "outputs": [
        {
          "data": {
            "text/plain": [
              "[<matplotlib.lines.Line2D at 0x7fb1f2238040>]"
            ]
          },
          "execution_count": 146,
          "metadata": {},
          "output_type": "execute_result"
        },
        {
          "data": {
            "image/png": "[encoded data removed]",
            "text/plain": [
              "<Figure size 864x288 with 1 Axes>"
            ]
          },
          "metadata": {
            "needs_background": "light"
          },
          "output_type": "display_data"
        }
      ],
      "source": [
        "plt.plot(np.arange(1, 10, 2), losses)"
      ]
    },
    {
      "cell_type": "markdown",
      "metadata": {
        "id": "W6sPZUnITxdw"
      },
      "source": [
        "The results indicate that a $K$ value from $1$ to $5$ is all ok. We will use $K = 5$ for the final evaluation. Now let's train the model one last time and apply the trained model to the testing set."
      ]
    },
    {
      "cell_type": "code",
      "execution_count": null,
      "metadata": {
        "id": "Ep8jVbS0UF0-"
      },
      "outputs": [],
      "source": [
        "K = 5\n",
        "W = np.random.randn(10000, K)\n",
        "b = np.zeros(10000)\n",
        "U = np.random.randn(10000, K)\n",
        "c = np.zeros(10000)\n",
        "mu = np.mean(list(to_rating.values()))\n",
        "epochs = 10\n",
        "reg = 100\n",
        "train_losses = []\n",
        "val_losses = []\n",
        "train_losses.append(get_loss(to_rating))\n",
        "val_losses.append(get_loss(to_rating_val))\n",
        "stop = 0\n",
        "for epoch in range(epochs):\n",
        "    print(\"epoch:\", epoch)\n",
        "    epoch_start = datetime.now()\n",
        "    \n",
        "    t0 = datetime.now()\n",
        "    for i in user_to_channel.keys():\n",
        "        matrix = np.eye(K) * reg\n",
        "        vector = np.zeros(K)\n",
        "        \n",
        "        pi = 0\n",
        "        for j in user_to_channel[i]:\n",
        "            r = to_rating[(i, j)]\n",
        "            matrix += np.outer(U[j], U[j])\n",
        "            vector += (r - P[i] - Q[i] - mu) * U[j]\n",
        "            pi += (r - W[i].dot(U[j]) - Q[j] - mu)\n",
        "        \n",
        "        W[i] = np.linalg.solve(matrix, vector)\n",
        "        P[i] = pi / (len(user_to_channel[i]) + reg)\n",
        "    \n",
        "    for j in channel_to_user.keys():\n",
        "        matrix = np.eye(K) * reg\n",
        "        vector = np.zeros(K)\n",
        "        \n",
        "        Qj = 0\n",
        "        try:\n",
        "            for i in channel_to_user[j]:\n",
        "                r = to_rating[(i, j)]\n",
        "                matrix += np.outer(W[i], W[i])\n",
        "                vector += (r - P[i] - Q[j] - mu) * W[i]\n",
        "                Qj += (r - W[i].dot(U[j]) - P[i] - mu)\n",
        "            \n",
        "            U[j] = np.linalg.solve(matrix, vector)\n",
        "            Q[j] = Qj / (len(channel_to_user[j]) + reg)\n",
        "            \n",
        "        except KeyError:\n",
        "            pass\n",
        "\n",
        "    train_losses.append(get_loss(to_rating))\n",
        "    val_losses.append(get_loss(to_rating_val))\n",
        "    if val_losses[-1] > val_losses[-2]:\n",
        "        stop += 1\n",
        "    else:\n",
        "        stop = 0\n",
        "    if stop == 2:\n",
        "        break\n",
        "train_vs_reg.append(train_losses)\n",
        "val_vs_reg.append(val_losses)"
      ]
    },
    {
      "cell_type": "markdown",
      "metadata": {
        "id": "P3ayS04er1OS"
      },
      "source": [
        "# **5. Evaluation**"
      ]
    },
    {
      "cell_type": "markdown",
      "metadata": {
        "id": "qR_9Vmc0XN8p"
      },
      "source": [
        "First, evaluate the results we get from the user-user collaborative filtering."
      ]
    },
    {
      "cell_type": "code",
      "execution_count": 19,
      "metadata": {
        "colab": {
          "base_uri": "https://localhost:8080/",
          "height": 0
        },
        "id": "7y64t_s6KwVC",
        "outputId": "4c3f48ad-ff84-4356-8c46-05202f25b681"
      },
      "outputs": [
        {
          "name": "stdout",
          "output_type": "stream",
          "text": [
            "Train mse:  2.0658060524441564\n",
            "Test mse:  5.182405427276896\n"
          ]
        }
      ],
      "source": [
        "def mse(a, b):\n",
        "    a = np.array(a)\n",
        "    b = np.array(b)\n",
        "    return np.mean((a-b)**2)\n",
        "\n",
        "train = pd.DataFrame([train_prediction, train_target])\n",
        "train = np.transpose(train)\n",
        "train.dropna(inplace = True)\n",
        "train.rename(columns = {0: \"predictions\", 1: \"target\"}, inplace = True)\n",
        "\n",
        "test = pd.DataFrame([test_prediction, test_target])\n",
        "test = np.transpose(test)\n",
        "test.dropna(inplace = True)\n",
        "test.rename(columns = {0: \"predictions\", 1: \"target\"}, inplace = True)\n",
        "\n",
        "print(\"Train mse: \", mse(train.predictions, train.target))\n",
        "print(\"Test mse: \", mse(test.predictions, test.target))"
      ]
    },
    {
      "cell_type": "markdown",
      "metadata": {
        "id": "ondtg4tYXv35"
      },
      "source": [
        "Secondly, evaluate the results we get from matrix factorization."
      ]
    },
    {
      "cell_type": "code",
      "execution_count": 180,
      "metadata": {
        "colab": {
          "base_uri": "https://localhost:8080/",
          "height": 0
        },
        "id": "HG0xOgJ2W85G",
        "outputId": "f50362f1-3e3c-42d9-b6f0-90f170e556b4"
      },
      "outputs": [
        {
          "name": "stdout",
          "output_type": "stream",
          "text": [
            "Train mse:  2.7134160902029993\n",
            "Test mse:  3.5303203699061587\n"
          ]
        }
      ],
      "source": [
        "print(\"Train mse: \", get_loss(to_rating)[0])\n",
        "print(\"Test mse: \", get_loss(to_rating_test)[0])"
      ]
    },
    {
      "cell_type": "markdown",
      "metadata": {
        "id": "NtTqLhQ1X2zu"
      },
      "source": [
        "Due to the regularization, matrix factorization doesn't overfit as much as the user-user collaborative filtering. The difference between the test and train loss is smaller. \n",
        "\n",
        "At the same time, the performance of matrix factorization is around 33% better than user-user collaborative filtering. This machine learning has proven to perform really well."
      ]
    },
    {
      "cell_type": "markdown",
      "metadata": {
        "id": "8w4WMvu5j2ev"
      },
      "source": [
        "# **6. Conclusion & Reflection**\n",
        "Although the performance is pretty good, there is still enormous space for improvement.\n",
        "\n",
        "To start with, the sample size used in this project is too small. We only take Reddit comment data for one day and subset them substantially. As a result, the tuned $K$ is really small, so there aren't many categories the program can learn from the existing data. Instead, the recommendation is mainly based on the bias of users ($P$), of channels ($Q$), and of their simple interactions ($W \\times U^{T}$). If the entire Reddit data is available, then $W \\times U^{T}$ would be much more complicated and help make better recommendations.\n",
        "\n",
        "Also, we tune the parameters one by one. It would be better to have a 2-D grid to prevent local minimum. At the same time, cross-validations would help stabilize the training process by reducing the variance.\n",
        "\n",
        "Finally, one crucial problem with matrix factorization is its applicability. Notice that all recommendations are made for existing users and channels. To recommend channels for new users, we need to increase the matrix sizes and train a new pair of $W$, $U$, $P$, and $Q$. Moreover, if we incorporate millions of users and channels, the computation time also increases exponentially. \n",
        "\n",
        "But with all that being said, the result of this project is decent. We implement a rudimentary matrix factorization recommendation model on Reddit data. It proves to be fairly effective on a small sample size.\n",
        "\n"
      ]
    }
  ],
  "metadata": {
    "colab": {
      "provenance": []
    },
    "kernelspec": {
      "display_name": "Python 3.9.13 ('pytorch')",
      "language": "python",
      "name": "python3"
    },
    "language_info": {
      "codemirror_mode": {
        "name": "ipython",
        "version": 3
      },
      "file_extension": ".py",
      "mimetype": "text/x-python",
      "name": "python",
      "nbconvert_exporter": "python",
      "pygments_lexer": "ipython3",
      "version": "3.9.13"
    },
    "vscode": {
      "interpreter": {
        "hash": "5ed3ec68748eeeab0d31e2de3e1dfd6b60a1f4574091f01707a40259693bab8c"
      }
    }
  },
  "nbformat": 4,
  "nbformat_minor": 0
}
