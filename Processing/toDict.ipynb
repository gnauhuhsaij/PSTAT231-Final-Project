{
 "cells": [
  {
   "cell_type": "code",
   "execution_count": 113,
   "metadata": {},
   "outputs": [],
   "source": [
    "import pickle\n",
    "import numpy as np\n",
    "import pandas as pd\n",
    "import matplotlib.pyplot as plt\n",
    "from sklearn.utils import shuffle\n",
    "from sklearn import preprocessing\n",
    "import seaborn as sns\n",
    "import math"
   ]
  },
  {
   "cell_type": "code",
   "execution_count": 114,
   "metadata": {},
   "outputs": [],
   "source": [
    "df = pd.read_csv(\"../data/small.csv\")"
   ]
  },
  {
   "cell_type": "code",
   "execution_count": 115,
   "metadata": {},
   "outputs": [
    {
     "data": {
      "text/html": [
       "<div>\n",
       "<style scoped>\n",
       "    .dataframe tbody tr th:only-of-type {\n",
       "        vertical-align: middle;\n",
       "    }\n",
       "\n",
       "    .dataframe tbody tr th {\n",
       "        vertical-align: top;\n",
       "    }\n",
       "\n",
       "    .dataframe thead th {\n",
       "        text-align: right;\n",
       "    }\n",
       "</style>\n",
       "<table border=\"1\" class=\"dataframe\">\n",
       "  <thead>\n",
       "    <tr style=\"text-align: right;\">\n",
       "      <th></th>\n",
       "      <th>Unnamed: 0.2</th>\n",
       "      <th>Unnamed: 0.1</th>\n",
       "      <th>Unnamed: 0</th>\n",
       "      <th>author</th>\n",
       "      <th>subreddit</th>\n",
       "      <th>score</th>\n",
       "      <th>text_length</th>\n",
       "      <th>user_id</th>\n",
       "      <th>channel_id</th>\n",
       "    </tr>\n",
       "  </thead>\n",
       "  <tbody>\n",
       "    <tr>\n",
       "      <th>0</th>\n",
       "      <td>0</td>\n",
       "      <td>0</td>\n",
       "      <td>0</td>\n",
       "      <td>ThatRookieGuy80</td>\n",
       "      <td>AskMen</td>\n",
       "      <td>7.0</td>\n",
       "      <td>10</td>\n",
       "      <td>0</td>\n",
       "      <td>0</td>\n",
       "    </tr>\n",
       "    <tr>\n",
       "      <th>1</th>\n",
       "      <td>8</td>\n",
       "      <td>8</td>\n",
       "      <td>8</td>\n",
       "      <td>Gr000vy</td>\n",
       "      <td>backpain</td>\n",
       "      <td>5.0</td>\n",
       "      <td>13</td>\n",
       "      <td>1</td>\n",
       "      <td>1</td>\n",
       "    </tr>\n",
       "    <tr>\n",
       "      <th>2</th>\n",
       "      <td>20</td>\n",
       "      <td>20</td>\n",
       "      <td>20</td>\n",
       "      <td>623-252-2424</td>\n",
       "      <td>PublicFreakout</td>\n",
       "      <td>2.0</td>\n",
       "      <td>2</td>\n",
       "      <td>2</td>\n",
       "      <td>2</td>\n",
       "    </tr>\n",
       "    <tr>\n",
       "      <th>3</th>\n",
       "      <td>22</td>\n",
       "      <td>22</td>\n",
       "      <td>22</td>\n",
       "      <td>Soviet-Biscuit</td>\n",
       "      <td>mildlyinfuriating</td>\n",
       "      <td>2.0</td>\n",
       "      <td>5</td>\n",
       "      <td>3</td>\n",
       "      <td>3</td>\n",
       "    </tr>\n",
       "    <tr>\n",
       "      <th>4</th>\n",
       "      <td>44</td>\n",
       "      <td>44</td>\n",
       "      <td>44</td>\n",
       "      <td>judyclimbs</td>\n",
       "      <td>MadeMeSmile</td>\n",
       "      <td>8.0</td>\n",
       "      <td>37</td>\n",
       "      <td>4</td>\n",
       "      <td>4</td>\n",
       "    </tr>\n",
       "    <tr>\n",
       "      <th>...</th>\n",
       "      <td>...</td>\n",
       "      <td>...</td>\n",
       "      <td>...</td>\n",
       "      <td>...</td>\n",
       "      <td>...</td>\n",
       "      <td>...</td>\n",
       "      <td>...</td>\n",
       "      <td>...</td>\n",
       "      <td>...</td>\n",
       "    </tr>\n",
       "    <tr>\n",
       "      <th>357899</th>\n",
       "      <td>5088996</td>\n",
       "      <td>5908310</td>\n",
       "      <td>5089075</td>\n",
       "      <td>It_me_aiden</td>\n",
       "      <td>teenagersbutpog</td>\n",
       "      <td>2.0</td>\n",
       "      <td>3</td>\n",
       "      <td>6104</td>\n",
       "      <td>1399</td>\n",
       "    </tr>\n",
       "    <tr>\n",
       "      <th>357900</th>\n",
       "      <td>5089001</td>\n",
       "      <td>5908315</td>\n",
       "      <td>5089080</td>\n",
       "      <td>scarecrow9281</td>\n",
       "      <td>girlsfrontline</td>\n",
       "      <td>4.0</td>\n",
       "      <td>2</td>\n",
       "      <td>6239</td>\n",
       "      <td>4164</td>\n",
       "    </tr>\n",
       "    <tr>\n",
       "      <th>357901</th>\n",
       "      <td>5089003</td>\n",
       "      <td>5908317</td>\n",
       "      <td>5089082</td>\n",
       "      <td>trimaximusrt</td>\n",
       "      <td>AskReddit</td>\n",
       "      <td>17.0</td>\n",
       "      <td>2</td>\n",
       "      <td>2583</td>\n",
       "      <td>47</td>\n",
       "    </tr>\n",
       "    <tr>\n",
       "      <th>357902</th>\n",
       "      <td>5089017</td>\n",
       "      <td>5908331</td>\n",
       "      <td>5089096</td>\n",
       "      <td>hosehliao</td>\n",
       "      <td>singapore</td>\n",
       "      <td>2.0</td>\n",
       "      <td>5</td>\n",
       "      <td>4170</td>\n",
       "      <td>640</td>\n",
       "    </tr>\n",
       "    <tr>\n",
       "      <th>357903</th>\n",
       "      <td>5089028</td>\n",
       "      <td>5908342</td>\n",
       "      <td>5089107</td>\n",
       "      <td>RedditEsInteresante</td>\n",
       "      <td>TedLasso</td>\n",
       "      <td>7.0</td>\n",
       "      <td>26</td>\n",
       "      <td>6006</td>\n",
       "      <td>1913</td>\n",
       "    </tr>\n",
       "  </tbody>\n",
       "</table>\n",
       "<p>357904 rows × 9 columns</p>\n",
       "</div>"
      ],
      "text/plain": [
       "        Unnamed: 0.2  Unnamed: 0.1  Unnamed: 0               author  \\\n",
       "0                  0             0           0      ThatRookieGuy80   \n",
       "1                  8             8           8              Gr000vy   \n",
       "2                 20            20          20         623-252-2424   \n",
       "3                 22            22          22       Soviet-Biscuit   \n",
       "4                 44            44          44           judyclimbs   \n",
       "...              ...           ...         ...                  ...   \n",
       "357899       5088996       5908310     5089075          It_me_aiden   \n",
       "357900       5089001       5908315     5089080        scarecrow9281   \n",
       "357901       5089003       5908317     5089082         trimaximusrt   \n",
       "357902       5089017       5908331     5089096            hosehliao   \n",
       "357903       5089028       5908342     5089107  RedditEsInteresante   \n",
       "\n",
       "                subreddit  score  text_length  user_id  channel_id  \n",
       "0                  AskMen    7.0           10        0           0  \n",
       "1                backpain    5.0           13        1           1  \n",
       "2          PublicFreakout    2.0            2        2           2  \n",
       "3       mildlyinfuriating    2.0            5        3           3  \n",
       "4             MadeMeSmile    8.0           37        4           4  \n",
       "...                   ...    ...          ...      ...         ...  \n",
       "357899    teenagersbutpog    2.0            3     6104        1399  \n",
       "357900     girlsfrontline    4.0            2     6239        4164  \n",
       "357901          AskReddit   17.0            2     2583          47  \n",
       "357902          singapore    2.0            5     4170         640  \n",
       "357903           TedLasso    7.0           26     6006        1913  \n",
       "\n",
       "[357904 rows x 9 columns]"
      ]
     },
     "execution_count": 115,
     "metadata": {},
     "output_type": "execute_result"
    }
   ],
   "source": [
    "df"
   ]
  },
  {
   "cell_type": "code",
   "execution_count": 116,
   "metadata": {},
   "outputs": [],
   "source": [
    "N = 10000\n",
    "M = 10000"
   ]
  },
  {
   "cell_type": "code",
   "execution_count": 117,
   "metadata": {},
   "outputs": [
    {
     "data": {
      "text/plain": [
       "(357904, 9)"
      ]
     },
     "execution_count": 117,
     "metadata": {},
     "output_type": "execute_result"
    }
   ],
   "source": [
    "df.shape"
   ]
  },
  {
   "cell_type": "code",
   "execution_count": 118,
   "metadata": {},
   "outputs": [],
   "source": [
    "user_to_channel = {}\n",
    "channel_to_user = {}\n",
    "to_rating = {}"
   ]
  },
  {
   "cell_type": "code",
   "execution_count": 119,
   "metadata": {},
   "outputs": [],
   "source": [
    "A = df.score.apply(lambda x: math.log10(abs(x)+2))\n",
    "df.loc[:,\"norm_score\"] = preprocessing.normalize([A],axis=1)[0]\n",
    "B = df.text_length.apply(lambda x: math.log10(abs(x)+1))\n",
    "df.loc[:,\"norm_length\"] = preprocessing.normalize([B],axis=1)[0]"
   ]
  },
  {
   "cell_type": "code",
   "execution_count": 120,
   "metadata": {},
   "outputs": [],
   "source": [
    "df.score.mean()\n",
    "df.score.std()\n",
    "norm_score = (df.score-df.score.mean())/df.score.std()"
   ]
  },
  {
   "cell_type": "code",
   "execution_count": 121,
   "metadata": {},
   "outputs": [],
   "source": [
    "df.loc[:, \"norm_score\"] = norm_score"
   ]
  },
  {
   "cell_type": "code",
   "execution_count": 122,
   "metadata": {},
   "outputs": [],
   "source": [
    "df.text_length.mean()\n",
    "df.text_length.std()\n",
    "norm_length = (df.text_length-df.text_length.mean())/df.text_length.std()\n",
    "norm_length = (norm_length-norm_length.mean())/norm_length.std()"
   ]
  },
  {
   "cell_type": "code",
   "execution_count": 123,
   "metadata": {},
   "outputs": [],
   "source": [
    "df.loc[:, \"norm_length\"] = norm_length"
   ]
  },
  {
   "cell_type": "code",
   "execution_count": 124,
   "metadata": {},
   "outputs": [],
   "source": [
    "from sklearn.decomposition import PCA\n",
    "A = pd.DataFrame({\"norm_score\": norm_score, \"norm_length\": norm_length})\n",
    "pca = PCA(n_components=1)\n",
    "principalComponents = pca.fit_transform(A)\n",
    "df.loc[:, \"PC\"] = principalComponents\n"
   ]
  },
  {
   "cell_type": "code",
   "execution_count": 125,
   "metadata": {},
   "outputs": [],
   "source": [
    "df.drop(columns = [\"Unnamed: 0.2\", \"Unnamed: 0.1\", \"Unnamed: 0\", \"score\", \"text_length\"], inplace = True)"
   ]
  },
  {
   "cell_type": "code",
   "execution_count": 126,
   "metadata": {},
   "outputs": [
    {
     "name": "stderr",
     "output_type": "stream",
     "text": [
      "/var/folders/k_/cq1sx9d94zs5s6d39hnbqppm0000gn/T/ipykernel_1839/2513613624.py:1: FutureWarning: The default value of numeric_only in DataFrameGroupBy.sum is deprecated. In a future version, numeric_only will default to False. Either specify numeric_only or select only columns which should be valid for the function.\n",
      "  df = df.groupby([\"user_id\",\"channel_id\"]).sum().reset_index()\n"
     ]
    }
   ],
   "source": [
    "df = df.groupby([\"user_id\",\"channel_id\"]).sum().reset_index()"
   ]
  },
  {
   "cell_type": "code",
   "execution_count": 127,
   "metadata": {},
   "outputs": [],
   "source": [
    "df = shuffle(df)\n",
    "cut = int(0.6*len(df))\n",
    "cut2 = int(0.8 * len(df))\n",
    "val = df[cut:cut2]\n",
    "train = df[0:cut]\n",
    "test = df[cut2:]"
   ]
  },
  {
   "cell_type": "code",
   "execution_count": 128,
   "metadata": {},
   "outputs": [
    {
     "data": {
      "text/plain": [
       "85946    None\n",
       "82162    None\n",
       "29876    None\n",
       "64988    None\n",
       "26970    None\n",
       "         ... \n",
       "61919    None\n",
       "3571     None\n",
       "21959    None\n",
       "5822     None\n",
       "8684     None\n",
       "Length: 52624, dtype: object"
      ]
     },
     "execution_count": 128,
     "metadata": {},
     "output_type": "execute_result"
    }
   ],
   "source": [
    "count = 0\n",
    "def update_transform(row):\n",
    "    global count\n",
    "    count += 1\n",
    "    if count % 100000 == 0:\n",
    "        print(\"Already processed: \", float(count)/float(cut))\n",
    "    if row.norm_score + row.norm_length <= 100: \n",
    "        i = int(row.user_id)\n",
    "        j = int(row.channel_id)\n",
    "        \n",
    "        if i not in user_to_channel:\n",
    "            user_to_channel[i] = [j]\n",
    "        else:\n",
    "            user_to_channel[i].append(j)\n",
    "        \n",
    "        if j not in channel_to_user:\n",
    "            channel_to_user[j] = [i]\n",
    "        else:\n",
    "            channel_to_user[j].append(i)\n",
    "        \n",
    "        to_rating[(i,j)] = [row.norm_score]\n",
    "train.apply(update_transform, axis = 1)"
   ]
  },
  {
   "cell_type": "code",
   "execution_count": 129,
   "metadata": {},
   "outputs": [
    {
     "data": {
      "text/plain": [
       "55961    None\n",
       "80575    None\n",
       "76229    None\n",
       "59895    None\n",
       "58023    None\n",
       "         ... \n",
       "45793    None\n",
       "36518    None\n",
       "7878     None\n",
       "12195    None\n",
       "18098    None\n",
       "Length: 17541, dtype: object"
      ]
     },
     "execution_count": 129,
     "metadata": {},
     "output_type": "execute_result"
    }
   ],
   "source": [
    "count = 0\n",
    "to_rating_test = {}\n",
    "def update_transform_2(row):\n",
    "    global count\n",
    "    count += 1\n",
    "    if count % 100000 == 0:\n",
    "        print(\"Already processed: \", float(count)/float(cut))\n",
    "    if row.norm_score + row.norm_length <= 100:\n",
    "        i = int(row.user_id)\n",
    "        j = int(row.channel_id)\n",
    "        to_rating_test[(i,j)] = [row.norm_score]\n",
    "test.apply(update_transform_2, axis = 1)\n",
    "to_rating_val = {}\n",
    "cuont = 0\n",
    "def update_transform_3(row):\n",
    "    global count\n",
    "    count += 1\n",
    "    if count % 100000 == 0:\n",
    "        print(\"Already processed: \", float(count)/float(cut))\n",
    "    if row.norm_score + row.norm_length <= 100:\n",
    "        i = int(row.user_id)\n",
    "        j = int(row.channel_id)\n",
    "        to_rating_val[(i,j)] = [row.norm_score]\n",
    "val.apply(update_transform_3, axis = 1)"
   ]
  },
  {
   "cell_type": "code",
   "execution_count": 130,
   "metadata": {},
   "outputs": [],
   "source": [
    "with open('../data/user_to_channel.json', 'wb') as f:\n",
    "    pickle.dump(user_to_channel, f)\n",
    "with open('../data/channel_to_user.json', 'wb') as f:\n",
    "    pickle.dump(channel_to_user, f)\n",
    "with open('../data/to_rating.json', 'wb') as f:\n",
    "    pickle.dump(to_rating, f)\n",
    "with open('../data/to_rating_test.json', 'wb') as f:\n",
    "    pickle.dump(to_rating_test, f)\n",
    "with open('../data/to_rating_val.json', 'wb') as f:\n",
    "    pickle.dump(to_rating_val, f)"
   ]
  }
 ],
 "metadata": {
  "kernelspec": {
   "display_name": "Python 3.9.13 ('pytorch')",
   "language": "python",
   "name": "python3"
  },
  "language_info": {
   "codemirror_mode": {
    "name": "ipython",
    "version": 3
   },
   "file_extension": ".py",
   "mimetype": "text/x-python",
   "name": "python",
   "nbconvert_exporter": "python",
   "pygments_lexer": "ipython3",
   "version": "3.9.13"
  },
  "orig_nbformat": 4,
  "vscode": {
   "interpreter": {
    "hash": "5ed3ec68748eeeab0d31e2de3e1dfd6b60a1f4574091f01707a40259693bab8c"
   }
  }
 },
 "nbformat": 4,
 "nbformat_minor": 2
}
